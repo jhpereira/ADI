{
 "cells": [
  {
   "cell_type": "code",
   "execution_count": 1,
   "id": "536ccb6a-703a-4fae-bc19-a9376d77e956",
   "metadata": {},
   "outputs": [],
   "source": [
    "import numpy as np\n",
    "\n",
    "def load_mdp(file_str, gamma):\n",
    "    \n",
    "    gamma = np.clip(gamma, 0, 1)\n",
    "    \n",
    "    data = np.load(file_str)\n",
    "    \n",
    "    M = []\n",
    "    \n",
    "    for k in data.keys():\n",
    "        M.append(data[k])\n",
    "        \n",
    "    M.append(gamma)\n",
    "    \n",
    "    M = tuple(M)\n",
    "        \n",
    "    return M\n",
    "\n",
    "M = load_mdp('pacman.npz', 0.9)"
   ]
  },
  {
   "cell_type": "code",
   "execution_count": 2,
   "id": "5591006e-595c-4ee4-8c90-b5de92e49d2d",
   "metadata": {},
   "outputs": [],
   "source": [
    "def generate_transition(M, policy, state, action_list, state_list):\n",
    "        \n",
    "        action_prob = policy[state,:]\n",
    "        \n",
    "        if action_list.size > 1:\n",
    "            action = np.random.choice(action_list, p = action_prob)\n",
    "        else:\n",
    "            action = action_list\n",
    "\n",
    "        new_state = np.random.choice(state_list, p = M[2][action][state,:])\n",
    "        \n",
    "        cost = M[3][state][action]\n",
    "        \n",
    "        transition = (state, action, cost, new_state)\n",
    "        \n",
    "        return transition"
   ]
  },
  {
   "cell_type": "code",
   "execution_count": 3,
   "id": "78c50e85-992a-49b5-b390-4e46cad640c5",
   "metadata": {},
   "outputs": [],
   "source": [
    "def generate_episode(M, policy, length):\n",
    "    \n",
    "    action_list = np.arange(len(M[1]), dtype=int)\n",
    "\n",
    "    state_list = np.arange(len(M[0]), dtype=int)\n",
    "    \n",
    "    epsilon = []\n",
    "    \n",
    "    state = np.random.choice(state_list)\n",
    "    \n",
    "    flag = False\n",
    "    \n",
    "    for i in range(length):\n",
    "\n",
    "        transition = generate_transition(M, policy, state, action_list, state_list)\n",
    "        \n",
    "        epsilon.append(transition)\n",
    "        \n",
    "        state = transition[-1]\n",
    "        \n",
    "        if flag == True:\n",
    "            break\n",
    "        \n",
    "        if state == state_list[-1] or state == state_list[-2]:\n",
    "            flag = True\n",
    "        \n",
    "    return epsilon"
   ]
  },
  {
   "cell_type": "code",
   "execution_count": 4,
   "id": "0facea7e-caef-414c-aafd-1445f72c85c7",
   "metadata": {},
   "outputs": [],
   "source": [
    "N = 10000"
   ]
  },
  {
   "cell_type": "code",
   "execution_count": 5,
   "id": "ce035056-53d6-4825-b84b-4261fec4967a",
   "metadata": {},
   "outputs": [],
   "source": [
    "def Q_learning(M, step, gamma, T):\n",
    "    \n",
    "    action_list = np.arange(len(M[1]), dtype=int)\n",
    "\n",
    "    state_list = np.arange(np.shape(M[0])[0], dtype=int)\n",
    "    \n",
    "    Q = np.zeros([len(M[0]), len(M[1])])\n",
    "    Q_old = np.ones(Q.shape)\n",
    "    \n",
    "    k = 0\n",
    "    \n",
    "    policy = np.ones(Q.shape)/len(M[1])\n",
    "    \n",
    "    Q_list = []\n",
    "    \n",
    "    Q_iter = np.zeros([len(M[0]), len(M[1])])\n",
    "    \n",
    "    while k < N:\n",
    "        \n",
    "        Q_old = Q\n",
    "        \n",
    "        k+=1\n",
    "        \n",
    "        epsilon = generate_episode(M, policy, T)\n",
    "        \n",
    "        for t in range(0, len(epsilon)):\n",
    "            \n",
    "            x = epsilon[t][0]\n",
    "            a = epsilon[t][1]\n",
    "            c = epsilon[t][2]\n",
    "            xplus = epsilon[t][3]\n",
    "            \n",
    "            delta = c + gamma*np.min(Q[xplus,:])-Q[x,a]\n",
    "            \n",
    "            Q[x,a] += step*delta\n",
    "\n",
    "        Q_list.append(np.copy(Q))\n",
    "            \n",
    "    return [Q, Q_list]"
   ]
  },
  {
   "cell_type": "code",
   "execution_count": 6,
   "id": "417d339e-ad75-4f90-80cb-f3f5e9e9e7c5",
   "metadata": {},
   "outputs": [],
   "source": [
    "[Q_Q_learning, Q_list_Q_learning] = Q_learning(M, 0.1, 0.9, 209)"
   ]
  },
  {
   "cell_type": "code",
   "execution_count": 7,
   "id": "40efb437-5a4c-448b-aacf-6f14d430a10c",
   "metadata": {},
   "outputs": [],
   "source": [
    "def policy_iteration(M):\n",
    "    \n",
    "    P = M[2]\n",
    "    c = M[3]\n",
    "    gamma = M[4]\n",
    "    \n",
    "    c = np.reshape(c.T, [c.shape[1],c.shape[0],1])\n",
    "    \n",
    "    pi = np.ones(c.shape)/c.shape[0]\n",
    "    pi_prev = np.ones(c.shape)\n",
    "    \n",
    "    k = 0\n",
    "    \n",
    "    while not np.allclose(pi,pi_prev):\n",
    "        \n",
    "        pi_prev = pi\n",
    "        \n",
    "        P_pi = np.sum(P*pi, axis = 0)\n",
    "        c_pi = np.sum(c*pi, axis = 0)\n",
    "        \n",
    "        J = np.matmul(np.linalg.inv(np.eye(P_pi.shape[0]) - gamma*P_pi), c_pi)\n",
    "        \n",
    "        Q = c + gamma * np.matmul(P,J)\n",
    "        \n",
    "        pi = np.isclose(Q, np.min(Q,axis = 0), atol = 1e-8, rtol = 1e-8).astype(int)\n",
    "\n",
    "        pi = pi/np.sum(pi, axis = 0)\n",
    "        \n",
    "        k += 1\n",
    "        \n",
    "    pi = np.concatenate(pi, axis = 1)\n",
    "    \n",
    "    Q = np.concatenate(Q, axis = 1)\n",
    "    \n",
    "    return [Q, pi]\n",
    "\n",
    "[Q, pi_star] = policy_iteration(M)"
   ]
  },
  {
   "cell_type": "code",
   "execution_count": 8,
   "id": "b9f2c48c-7f00-4686-8fe3-6b13251e54d0",
   "metadata": {},
   "outputs": [],
   "source": [
    "def epsilon_greedy(M, Q, u, kt):\n",
    "    \n",
    "    epsilon = u*kt**-1\n",
    "    \n",
    "    epsilon = np.reshape(epsilon, [Q.shape[0],1])\n",
    "\n",
    "    action_list = np.arange(len(M[1]), dtype=int)\n",
    "\n",
    "    state_list = np.arange(np.shape(M[0])[0], dtype=int)\n",
    "    \n",
    "    policy = np.ones([len(state_list), len(action_list)])*epsilon/len(action_list)\n",
    "    \n",
    "    a_mins = np.argmin(Q, axis = 1)\n",
    "    \n",
    "    indexes = np.arange(0, policy.shape[0]*policy.shape[1], policy.shape[1]) + a_mins\n",
    "    \n",
    "    np.put(policy, indexes, 1-epsilon+epsilon/len(action_list))\n",
    "    \n",
    "    return policy"
   ]
  },
  {
   "cell_type": "code",
   "execution_count": 9,
   "id": "3d567267-4eac-4f55-b74f-831b386a90b1",
   "metadata": {},
   "outputs": [],
   "source": [
    "def boltzmann(M, Q, u, kt):\n",
    "    \n",
    "    Qmin = np.reshape(np.min(Q, axis = 1), [Q.shape[0], 1])\n",
    "    \n",
    "    u = np.max(np.abs(Q-Qmin), axis = 1)\n",
    "    \n",
    "    eta = np.log(kt)/u\n",
    "    \n",
    "    eta = np.reshape(eta, [eta.size, 1])\n",
    "    \n",
    "    eta = np.nan_to_num(eta)\n",
    "    \n",
    "    f = np.reshape(np.max(eta*Q, axis = 1), [Q.shape[0],1])\n",
    "    \n",
    "    F = np.sum(np.exp(eta*Q - f), axis = 1)\n",
    "\n",
    "    F = np.reshape(F, [F.size,1])\n",
    "\n",
    "    policy = np.exp(eta*Q - f)/F\n",
    "    \n",
    "    return policy"
   ]
  },
  {
   "cell_type": "code",
   "execution_count": 10,
   "id": "d56ca731-922d-423e-b1ae-e29c96b425e4",
   "metadata": {},
   "outputs": [],
   "source": [
    "def SARSA(M, step, gamma, T, policy_function):\n",
    "    \n",
    "    action_list = np.arange(len(M[1]), dtype=int)\n",
    "\n",
    "    state_list = np.arange(np.shape(M[0])[0], dtype=int)\n",
    "    \n",
    "    Q = np.zeros([len(M[0]), len(M[1])])\n",
    "    Q_old = np.ones(Q.shape)\n",
    "    \n",
    "    k = 0\n",
    "    \n",
    "    Q_list = []\n",
    "    \n",
    "    while k < N:\n",
    "        \n",
    "        k+=1\n",
    "        \n",
    "        kt = np.zeros(len(state_list))\n",
    "        \n",
    "        x0 = np.random.choice(state_list)\n",
    "        \n",
    "        kt[x0] +=1\n",
    "        \n",
    "        u = 0.5\n",
    "        \n",
    "        policy = policy_function(M,Q,u,kt)\n",
    "            \n",
    "        transition = generate_transition(M, policy, x0, action_list, state_list)\n",
    "            \n",
    "        x = transition[0]\n",
    "        a = transition[1]\n",
    "        c = transition[2]\n",
    "        xplus = transition[3]\n",
    "        \n",
    "        kt[x] +=1\n",
    "        kt[xplus] +=1\n",
    "        \n",
    "        policy = policy_function(M,Q,u,kt)\n",
    "        \n",
    "        transition = generate_transition(M, policy, xplus, action_list, state_list)\n",
    "        \n",
    "        aplus = transition[1]\n",
    "        \n",
    "        delta = c + gamma*Q[xplus,aplus]-Q[x,a]\n",
    "            \n",
    "        Q[x,a] += step*delta\n",
    "        \n",
    "        for t in range(0, T-1):\n",
    "            \n",
    "            transition = generate_transition(M, policy, xplus, aplus, state_list)\n",
    "            \n",
    "            x = transition[0]\n",
    "            a = transition[1]\n",
    "            c = transition[2]\n",
    "            xplus = transition[3]\n",
    "            \n",
    "            kt[xplus] +=1\n",
    "            \n",
    "            policy = policy_function(M,Q,u,kt)\n",
    "            \n",
    "            transition = generate_transition(M, policy, xplus, action_list, state_list)\n",
    "        \n",
    "            aplus = transition[1]\n",
    "\n",
    "            delta = c + gamma*Q[xplus,aplus]-Q[x,a]\n",
    "            \n",
    "            Q[x,a] += step*delta\n",
    "            \n",
    "            if x == state_list[-1] or x == state_list[-2]:\n",
    "                break\n",
    "                \n",
    "        Q_list.append(np.copy(Q))\n",
    "            \n",
    "    return [Q, Q_list]"
   ]
  },
  {
   "cell_type": "code",
   "execution_count": 11,
   "id": "e4dd626c-8aaf-4665-8f9d-ce7f22b5b2fc",
   "metadata": {},
   "outputs": [
    {
     "name": "stderr",
     "output_type": "stream",
     "text": [
      "/tmp/ipykernel_7637/1241646542.py:3: RuntimeWarning: divide by zero encountered in reciprocal\n",
      "  epsilon = u*kt**-1\n",
      "/tmp/ipykernel_7637/1241646542.py:17: RuntimeWarning: invalid value encountered in add\n",
      "  np.put(policy, indexes, 1-epsilon+epsilon/len(action_list))\n"
     ]
    }
   ],
   "source": [
    "[Q_SARSA, Q_list_SARSA] = SARSA(M, 0.5, 0.9, 209, epsilon_greedy)"
   ]
  },
  {
   "cell_type": "code",
   "execution_count": 12,
   "id": "fa8c5d48-e72a-4f59-9bf5-59f464538b29",
   "metadata": {},
   "outputs": [],
   "source": [
    "def ARTDP_prediction(M, policy, gamma, step):\n",
    "    \n",
    "    A = np.arange(len(M[1]), dtype=int)\n",
    "    X = np.arange(len(M[0]), dtype=int)\n",
    "    \n",
    "    P = np.eye(len(X))\n",
    "    c = np.zeros([len(X), 1])\n",
    "    J = np.zeros([len(X), 1])\n",
    "    k = np.zeros([len(X), 1])\n",
    "    \n",
    "    while np.max(k) < N:\n",
    "        epsilon = generate_episode(M, policy, 209)\n",
    "        Xt = []\n",
    "        \n",
    "        for tau in epsilon:\n",
    "            xt = tau[0]\n",
    "            ct = tau[-2]\n",
    "            xtplus = tau[-1]\n",
    "            k[xt] += 1\n",
    "            Xt.append(xt)\n",
    "            \n",
    "            for y in X:\n",
    "                P[xt, y] += step*(int(xtplus == y) - P[xt, y])\n",
    "                \n",
    "            c[xt] += step*(ct - c[xt])\n",
    "            \n",
    "            for x in Xt:\n",
    "                J[x] = c[x] + gamma * P[x,:]@J\n",
    "            \n",
    "    return J"
   ]
  },
  {
   "cell_type": "code",
   "execution_count": 13,
   "id": "6810432a-616e-49b7-9937-b2db2a32e425",
   "metadata": {},
   "outputs": [],
   "source": [
    "J = ARTDP_prediction(M, pi_star, 0.9, 0.1)"
   ]
  },
  {
   "cell_type": "code",
   "execution_count": 14,
   "id": "396355dd-8fd9-43a5-8398-d628ce4e2085",
   "metadata": {},
   "outputs": [],
   "source": [
    "i = np.where(M[0] == '(28, 0, 3)')"
   ]
  },
  {
   "cell_type": "code",
   "execution_count": 15,
   "id": "41295cdf-21d6-4e3c-b3aa-e5228b8d2640",
   "metadata": {},
   "outputs": [
    {
     "data": {
      "text/plain": [
       "array([[0.67088647]])"
      ]
     },
     "execution_count": 15,
     "metadata": {},
     "output_type": "execute_result"
    }
   ],
   "source": [
    "J[i]"
   ]
  },
  {
   "cell_type": "code",
   "execution_count": 16,
   "id": "b9e48513-1733-4182-91e4-dc92ca2bbed1",
   "metadata": {},
   "outputs": [],
   "source": [
    "def ARTDP_prediction(M, policy, gamma, step):\n",
    "    \n",
    "    A = np.arange(len(M[1]), dtype=int)\n",
    "    X = np.arange(len(M[0]), dtype=int)\n",
    "    \n",
    "    P = np.eye(len(X))\n",
    "    c = np.zeros([len(X), 1])\n",
    "    J = np.zeros([len(X), 1])\n",
    "    k = np.zeros([len(X), 1])\n",
    "    \n",
    "    while np.max(k) < N:\n",
    "        epsilon = generate_episode(M, policy, 209)\n",
    "        Xt = []\n",
    "        \n",
    "        for tau in epsilon:\n",
    "            xt = tau[0]\n",
    "            ct = tau[-2]\n",
    "            xtplus = tau[-1]\n",
    "            k[xt] += 1\n",
    "            Xt.append(xt)\n",
    "            \n",
    "            for y in X:\n",
    "                P[xt, y] += step*(int(xtplus == y) - P[xt, y])\n",
    "                \n",
    "            c[xt] += step*(ct - c[xt])\n",
    "            \n",
    "            for x in Xt:\n",
    "                J[x] = c[x] + gamma * P[x,:]@J\n",
    "            \n",
    "    return J"
   ]
  },
  {
   "cell_type": "code",
   "execution_count": 17,
   "id": "febfa5c7-890d-48a6-b7e5-1589b3da37d5",
   "metadata": {},
   "outputs": [],
   "source": [
    "def ARTDP_control(M, policy, gamma, step):\n",
    "    \n",
    "    A = np.arange(len(M[1]), dtype=int)\n",
    "    X = np.arange(len(M[0]), dtype=int)\n",
    "    \n",
    "    P = []\n",
    "    c = []\n",
    "    \n",
    "    for a in A:\n",
    "        P.append(np.eye(len(X)))\n",
    "        c.append(np.zeros([len(X), 1]))\n",
    "        \n",
    "    P = np.array(P)\n",
    "    c = np.array(c)\n",
    "\n",
    "    k = 0\n",
    "    \n",
    "    Q = np.zeros([len(X),len(A)])\n",
    "    Q_list = []\n",
    "    \n",
    "    while k < N:\n",
    "        epsilon = generate_episode(M, policy, 209)\n",
    "        Xt = []\n",
    "        k +=1\n",
    "        \n",
    "        for tau in epsilon:\n",
    "            xt = tau[0]\n",
    "            at = tau[1]\n",
    "            ct = tau[-2]\n",
    "            xtplus = tau[-1]\n",
    "            Xt.append(xt)\n",
    "            \n",
    "            for y in X:\n",
    "                P[at][xt, y] += step*(int(xtplus == y) - P[at][xt, y])\n",
    "                \n",
    "            c[at][xt] += step*(ct - c[at][xt])\n",
    "                \n",
    "        Qmin = np.reshape(np.min(Q, axis = 1), [len(X),1])\n",
    "\n",
    "        Q = c + gamma * np.matmul(P,Qmin)\n",
    "        Q = np.concatenate(Q, axis = 1)\n",
    "        Q_list.append(np.copy(Q))\n",
    "        \n",
    "    return [Q, Q_list]"
   ]
  },
  {
   "cell_type": "code",
   "execution_count": 18,
   "id": "632c03fd-0b58-41f3-bba9-e321fa1c751d",
   "metadata": {},
   "outputs": [],
   "source": [
    "[Q_Model, Q_list_Model] = ARTDP_control(M, np.ones(Q.shape)/4, 0.9, 0.1)"
   ]
  },
  {
   "cell_type": "code",
   "execution_count": 19,
   "id": "d6e105e8-f2a7-464a-899f-cf76a3434555",
   "metadata": {},
   "outputs": [
    {
     "data": {
      "text/plain": [
       "0.13725001264296655"
      ]
     },
     "execution_count": 19,
     "metadata": {},
     "output_type": "execute_result"
    }
   ],
   "source": [
    "np.linalg.norm(Q_Model-Q, 'fro')"
   ]
  },
  {
   "cell_type": "code",
   "execution_count": 20,
   "id": "57cf8d6d-e831-4f26-ac56-815dcc36475a",
   "metadata": {},
   "outputs": [
    {
     "data": {
      "text/plain": [
       "[<matplotlib.lines.Line2D at 0x7f9e98158f10>]"
      ]
     },
     "execution_count": 20,
     "metadata": {},
     "output_type": "execute_result"
    },
    {
     "data": {
      "image/png": "[encoded data removed]",
      "text/plain": [
       "<Figure size 432x288 with 1 Axes>"
      ]
     },
     "metadata": {
      "needs_background": "light"
     },
     "output_type": "display_data"
    }
   ],
   "source": [
    "import matplotlib.pyplot as plt\n",
    "\n",
    "y_Q_Learning = []\n",
    "y_SARSA = []\n",
    "y_Model = []\n",
    "\n",
    "for Q_iter in Q_list_Model:\n",
    "    y_Model.append(np.linalg.norm(Q_iter-Q, 'fro'))\n",
    "    \n",
    "for Q_iter in Q_list_Q_learning:\n",
    "    y_Q_Learning.append(np.linalg.norm(Q_iter-Q, 'fro'))\n",
    "    \n",
    "for Q_iter in Q_list_SARSA:\n",
    "    y_SARSA.append(np.linalg.norm(Q_iter-Q, 'fro'))\n",
    "    \n",
    "x = np.arange(len(y_Model))    \n",
    "\n",
    "plt.plot(x,y_Model)\n",
    "plt.plot(x,y_Q_Learning)\n",
    "plt.plot(x,y_SARSA)"
   ]
  },
  {
   "cell_type": "code",
   "execution_count": null,
   "id": "3e1886de-bac8-4ce2-b071-7daeb21cd823",
   "metadata": {},
   "outputs": [],
   "source": []
  }
 ],
 "metadata": {
  "kernelspec": {
   "display_name": "Python 3 (ipykernel)",
   "language": "python",
   "name": "python3"
  },
  "language_info": {
   "codemirror_mode": {
    "name": "ipython",
    "version": 3
   },
   "file_extension": ".py",
   "mimetype": "text/x-python",
   "name": "python",
   "nbconvert_exporter": "python",
   "pygments_lexer": "ipython3",
   "version": "3.9.7"
  }
 },
 "nbformat": 4,
 "nbformat_minor": 5
}
