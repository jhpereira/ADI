{
 "cells": [
  {
   "cell_type": "code",
   "execution_count": 1,
   "id": "4a187c49-121f-44ff-a179-3dc2f6459fac",
   "metadata": {},
   "outputs": [],
   "source": [
    "import numpy as np\n",
    "\n",
    "X = ['Tiger Left', 'Tiger Right']\n",
    "\n",
    "A = ['Open Left', 'Open Right', 'Listen']\n",
    "\n",
    "Z = ['Tiger Left', 'Tiger Right']\n",
    "\n",
    "P_OL = np.ones([len(X), len(X)])/len(X) # uniform probability of tiger being behind any door\n",
    "P_OR = P_OL\n",
    "P_L = np.eye(len(X)) # when listening position of tiger doesn't change\n",
    "\n",
    "O_OL = np.ones([len(X), len(X)])/len(X) # when door is opened world resets, back to tiger behind any door with uniform probability\n",
    "O_OR = O_OL\n",
    "O_L = np.array([[0.85, 0.15], [0.15, 0.85]]) # We can hear correct position of tiger with 0.85 probability\n",
    "\n",
    "P = np.array([P_OL, P_OR, P_L])\n",
    "O = np.array([O_OL, O_OR, O_L])\n",
    "\n",
    "C = np.array([[1, 0, 0.1], [0, 1, 0.1]]) # Maximum cost if we pick wrong door, small cost for listening"
   ]
  },
  {
   "cell_type": "code",
   "execution_count": 2,
   "id": "d315cc45-b83d-4a99-829f-19178cebd2a9",
   "metadata": {},
   "outputs": [],
   "source": [
    "p = np.linspace(0,1,101)\n",
    "p = np.reshape(p, [p.size, 1])\n",
    "\n",
    "B = np.hstack((p, 1-p)) # discrete belief space"
   ]
  },
  {
   "cell_type": "code",
   "execution_count": 3,
   "id": "e7229dd2-dca1-4f1b-a0da-65e08d1e743b",
   "metadata": {},
   "outputs": [],
   "source": [
    "def Policy_Iteration(P, c, gamma):\n",
    "    \n",
    "    pi = np.ones(c.shape)/c.shape[0]\n",
    "    pi_prev = np.ones(c.shape)\n",
    "    \n",
    "    k = 0\n",
    "    \n",
    "    while not np.allclose(pi,pi_prev):\n",
    "        \n",
    "        pi_prev = pi\n",
    "        \n",
    "        P_pi = np.sum(P*pi, axis = 0)\n",
    "        c_pi = np.sum(c*pi, axis = 0)\n",
    "        \n",
    "        J = np.matmul(np.linalg.inv(np.eye(P_pi.shape[0]) - gamma*P_pi), c_pi)\n",
    "        \n",
    "        Q = c + gamma * np.matmul(P,J)\n",
    "        \n",
    "        pi = np.isclose(Q, np.min(Q,axis = 0)).astype(int)\n",
    "\n",
    "        pi = pi/np.sum(pi, axis = 0)\n",
    "        \n",
    "        k += 1\n",
    "        \n",
    "        \n",
    "    pi = np.concatenate(pi, axis = 1)\n",
    "\n",
    "    print(k)\n",
    "    \n",
    "    return pi"
   ]
  },
  {
   "cell_type": "code",
   "execution_count": 4,
   "id": "fee0384e-426f-483b-9428-b32dcedd2394",
   "metadata": {},
   "outputs": [
    {
     "data": {
      "text/plain": [
       "array([[1. , 0. , 0.1],\n",
       "       [0. , 1. , 0.1]])"
      ]
     },
     "execution_count": 4,
     "metadata": {},
     "output_type": "execute_result"
    }
   ],
   "source": [
    "C"
   ]
  },
  {
   "cell_type": "code",
   "execution_count": 5,
   "id": "c854f337-e462-4660-afaf-10a49c49fd7b",
   "metadata": {},
   "outputs": [],
   "source": [
    "C = C.T.reshape([C.shape[1], C.shape[0], 1])"
   ]
  },
  {
   "cell_type": "code",
   "execution_count": 6,
   "id": "5fb52e98-4bf3-411e-b76c-420acd840b88",
   "metadata": {},
   "outputs": [
    {
     "name": "stdout",
     "output_type": "stream",
     "text": [
      "2\n"
     ]
    }
   ],
   "source": [
    "pi_MDP = Policy_Iteration(P,C,0.75)"
   ]
  },
  {
   "cell_type": "code",
   "execution_count": 7,
   "id": "7e133ebd-dcdb-40df-8e3c-5194e735c632",
   "metadata": {},
   "outputs": [],
   "source": [
    "MLS = np.argmax(B, axis = 1)"
   ]
  },
  {
   "cell_type": "code",
   "execution_count": 8,
   "id": "f9b8d471-7c46-4bce-a11c-3937ae061893",
   "metadata": {},
   "outputs": [
    {
     "data": {
      "text/plain": [
       "(101,)"
      ]
     },
     "execution_count": 8,
     "metadata": {},
     "output_type": "execute_result"
    }
   ],
   "source": [
    "MLS.shape"
   ]
  },
  {
   "cell_type": "code",
   "execution_count": 9,
   "id": "d9b475f5-106a-4d0a-9931-de46abdc168e",
   "metadata": {},
   "outputs": [],
   "source": [
    "pi_MLS = np.zeros([MLS.size, pi_MDP.shape[1]])\n",
    "i = 0\n",
    "                   \n",
    "for x in MLS:\n",
    "    pi_MLS[i] = pi_MDP[x,:]\n",
    "    i+=1"
   ]
  },
  {
   "cell_type": "code",
   "execution_count": 11,
   "id": "40069eec-6e60-41dd-9295-d72483bc1712",
   "metadata": {},
   "outputs": [
    {
     "data": {
      "text/plain": [
       "array([[1., 0., 0.],\n",
       "       [1., 0., 0.],\n",
       "       [1., 0., 0.],\n",
       "       [1., 0., 0.],\n",
       "       [1., 0., 0.],\n",
       "       [1., 0., 0.],\n",
       "       [1., 0., 0.],\n",
       "       [1., 0., 0.],\n",
       "       [1., 0., 0.],\n",
       "       [1., 0., 0.],\n",
       "       [1., 0., 0.],\n",
       "       [1., 0., 0.],\n",
       "       [1., 0., 0.],\n",
       "       [1., 0., 0.],\n",
       "       [1., 0., 0.],\n",
       "       [1., 0., 0.],\n",
       "       [1., 0., 0.],\n",
       "       [1., 0., 0.],\n",
       "       [1., 0., 0.],\n",
       "       [1., 0., 0.],\n",
       "       [1., 0., 0.],\n",
       "       [1., 0., 0.],\n",
       "       [1., 0., 0.],\n",
       "       [1., 0., 0.],\n",
       "       [1., 0., 0.],\n",
       "       [1., 0., 0.],\n",
       "       [1., 0., 0.],\n",
       "       [1., 0., 0.],\n",
       "       [1., 0., 0.],\n",
       "       [1., 0., 0.],\n",
       "       [1., 0., 0.],\n",
       "       [1., 0., 0.],\n",
       "       [1., 0., 0.],\n",
       "       [1., 0., 0.],\n",
       "       [1., 0., 0.],\n",
       "       [1., 0., 0.],\n",
       "       [1., 0., 0.],\n",
       "       [1., 0., 0.],\n",
       "       [1., 0., 0.],\n",
       "       [1., 0., 0.],\n",
       "       [1., 0., 0.],\n",
       "       [1., 0., 0.],\n",
       "       [1., 0., 0.],\n",
       "       [1., 0., 0.],\n",
       "       [1., 0., 0.],\n",
       "       [1., 0., 0.],\n",
       "       [1., 0., 0.],\n",
       "       [1., 0., 0.],\n",
       "       [1., 0., 0.],\n",
       "       [1., 0., 0.],\n",
       "       [0., 1., 0.],\n",
       "       [0., 1., 0.],\n",
       "       [0., 1., 0.],\n",
       "       [0., 1., 0.],\n",
       "       [0., 1., 0.],\n",
       "       [0., 1., 0.],\n",
       "       [0., 1., 0.],\n",
       "       [0., 1., 0.],\n",
       "       [0., 1., 0.],\n",
       "       [0., 1., 0.],\n",
       "       [0., 1., 0.],\n",
       "       [0., 1., 0.],\n",
       "       [0., 1., 0.],\n",
       "       [0., 1., 0.],\n",
       "       [0., 1., 0.],\n",
       "       [0., 1., 0.],\n",
       "       [0., 1., 0.],\n",
       "       [0., 1., 0.],\n",
       "       [0., 1., 0.],\n",
       "       [0., 1., 0.],\n",
       "       [0., 1., 0.],\n",
       "       [0., 1., 0.],\n",
       "       [0., 1., 0.],\n",
       "       [0., 1., 0.],\n",
       "       [0., 1., 0.],\n",
       "       [0., 1., 0.],\n",
       "       [0., 1., 0.],\n",
       "       [0., 1., 0.],\n",
       "       [0., 1., 0.],\n",
       "       [0., 1., 0.],\n",
       "       [0., 1., 0.],\n",
       "       [0., 1., 0.],\n",
       "       [0., 1., 0.],\n",
       "       [0., 1., 0.],\n",
       "       [0., 1., 0.],\n",
       "       [0., 1., 0.],\n",
       "       [0., 1., 0.],\n",
       "       [0., 1., 0.],\n",
       "       [0., 1., 0.],\n",
       "       [0., 1., 0.],\n",
       "       [0., 1., 0.],\n",
       "       [0., 1., 0.],\n",
       "       [0., 1., 0.],\n",
       "       [0., 1., 0.],\n",
       "       [0., 1., 0.],\n",
       "       [0., 1., 0.],\n",
       "       [0., 1., 0.],\n",
       "       [0., 1., 0.],\n",
       "       [0., 1., 0.],\n",
       "       [0., 1., 0.],\n",
       "       [0., 1., 0.]])"
      ]
     },
     "execution_count": 11,
     "metadata": {},
     "output_type": "execute_result"
    }
   ],
   "source": [
    "pi_MLS"
   ]
  },
  {
   "cell_type": "code",
   "execution_count": null,
   "id": "d73b8bd3-cb7e-4fa3-8ed6-92b4dbe6f9a8",
   "metadata": {},
   "outputs": [],
   "source": []
  }
 ],
 "metadata": {
  "kernelspec": {
   "display_name": "Python 3",
   "language": "python",
   "name": "python3"
  },
  "language_info": {
   "codemirror_mode": {
    "name": "ipython",
    "version": 3
   },
   "file_extension": ".py",
   "mimetype": "text/x-python",
   "name": "python",
   "nbconvert_exporter": "python",
   "pygments_lexer": "ipython3",
   "version": "3.9.7"
  }
 },
 "nbformat": 4,
 "nbformat_minor": 5
}
