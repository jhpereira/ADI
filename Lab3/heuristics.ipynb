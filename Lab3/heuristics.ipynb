{
 "cells": [
  {
   "cell_type": "code",
   "execution_count": 1,
   "id": "e99bebfb-1019-40ab-a41a-653725fb5269",
   "metadata": {},
   "outputs": [],
   "source": [
    "import numpy as np\n",
    "\n",
    "X = ['Tiger Left', 'Tiger Right']\n",
    "\n",
    "A = ['Open Left', 'Open Right', 'Listen']\n",
    "\n",
    "Z = ['Tiger Left', 'Tiger Right']\n",
    "\n",
    "P_OL = np.ones([len(X), len(X)])/len(X) # uniform probability of tiger being behind any door\n",
    "P_OR = P_OL\n",
    "P_L = np.eye(len(X)) # when listening position of tiger doesn't change\n",
    "\n",
    "O_OL = np.ones([len(X), len(X)])/len(X) # when door is opened world resets, back to tiger behind any door with uniform probability\n",
    "O_OR = O_OL\n",
    "O_L = np.array([[0.85, 0.15], [0.15, 0.85]]) # We can hear correct position of tiger with 0.85 probability\n",
    "\n",
    "P = np.array([P_OL, P_OR, P_L])\n",
    "O = np.array([O_OL, O_OR, O_L])\n",
    "\n",
    "C = np.array([[1, 0, 0.1], [0, 1, 0.1]]) # Maximum cost if we pick wrong door, small cost for listening"
   ]
  },
  {
   "cell_type": "code",
   "execution_count": 2,
   "id": "0876861a-6763-4ab0-b969-23822226cacf",
   "metadata": {},
   "outputs": [],
   "source": [
    "p = np.linspace(0,1,10001)\n",
    "p = np.reshape(p, [p.size, 1])\n",
    "\n",
    "B = np.hstack((p, 1-p)) # discrete belief space"
   ]
  },
  {
   "cell_type": "code",
   "execution_count": 3,
   "id": "74e4a976-52a9-4660-9264-998d36b32d59",
   "metadata": {},
   "outputs": [],
   "source": [
    "def FIB(B, P, O, c, gamma):\n",
    "    \n",
    "    c = c.T.reshape([C.shape[1], C.shape[0], 1])\n",
    "    pi = np.ones(c.shape)/c.shape[0]\n",
    "    pi_prev = np.ones(c.shape)\n",
    "    \n",
    "    k = 0\n",
    "    \n",
    "    Q = np.zeros([*c.shape])\n",
    "    \n",
    "    while not np.allclose(pi,pi_prev):\n",
    "        \n",
    "        pi_prev = pi\n",
    "        for a in range(Q.shape[0]):\n",
    "            \n",
    "            sum_over_z = np.zeros([*c[0].shape])\n",
    "            \n",
    "            for z in range(O[0].shape[1]):\n",
    "                \n",
    "                O_az = O[a][:,z].reshape([2,1])\n",
    "                aux = P[a]@(O_az*Q)\n",
    "                aux = np.min(aux, axis = 0)\n",
    "                sum_over_z += aux\n",
    "            \n",
    "            Q[a] = c[a] + gamma*sum_over_z \n",
    "            \n",
    "        Q_test = Q.T.reshape([2,3])\n",
    "\n",
    "        pi = np.argmin(B@Q_test, axis = 1)\n",
    "              \n",
    "        k += 1\n",
    "\n",
    "    print(k)\n",
    "    \n",
    "    return pi"
   ]
  },
  {
   "cell_type": "code",
   "execution_count": 4,
   "id": "475557fd-1be9-4957-a31c-f49d1a63fd9e",
   "metadata": {},
   "outputs": [],
   "source": [
    "def Q_MDP(B, P, c, gamma):\n",
    "    \n",
    "    c = c.T.reshape([c.shape[1], c.shape[0], 1])\n",
    "    \n",
    "    pi = np.ones(c.shape)/c.shape[0]\n",
    "    pi_prev = np.ones(c.shape)\n",
    "    \n",
    "    k = 0\n",
    "    \n",
    "    while not np.allclose(pi,pi_prev):\n",
    "        \n",
    "        pi_prev = pi\n",
    "        \n",
    "        P_pi = np.sum(P*pi, axis = 0)\n",
    "        c_pi = np.sum(c*pi, axis = 0)\n",
    "        \n",
    "        J = np.matmul(np.linalg.inv(np.eye(P_pi.shape[0]) - gamma*P_pi), c_pi)\n",
    "        \n",
    "        Q = c + gamma * np.matmul(P,J)\n",
    "        \n",
    "        pi = np.isclose(Q, np.min(Q,axis = 0)).astype(int)\n",
    "\n",
    "        pi = pi/np.sum(pi, axis = 0)\n",
    "        \n",
    "        k += 1\n",
    "        \n",
    "\n",
    "    Q = Q.T.reshape([2,3])\n",
    "    \n",
    "    pi = np.argmin(B@Q, axis = 1)\n",
    "        \n",
    "    print(k)\n",
    "    \n",
    "    return pi"
   ]
  },
  {
   "cell_type": "code",
   "execution_count": 5,
   "id": "60dc5c74-14e3-4f30-8879-524613a9d622",
   "metadata": {},
   "outputs": [],
   "source": [
    "def MLS(B, P, c, gamma):\n",
    "    \n",
    "    c = c.T.reshape([c.shape[1], c.shape[0], 1])\n",
    "    \n",
    "    pi = np.ones(c.shape)/c.shape[0]\n",
    "    pi_prev = np.ones(c.shape)\n",
    "    \n",
    "    k = 0\n",
    "    \n",
    "    while not np.allclose(pi,pi_prev):\n",
    "        \n",
    "        pi_prev = pi\n",
    "        \n",
    "        P_pi = np.sum(P*pi, axis = 0)\n",
    "        c_pi = np.sum(c*pi, axis = 0)\n",
    "        \n",
    "        J = np.matmul(np.linalg.inv(np.eye(P_pi.shape[0]) - gamma*P_pi), c_pi)\n",
    "        \n",
    "        Q = c + gamma * np.matmul(P,J)\n",
    "        \n",
    "        pi = np.isclose(Q, np.min(Q,axis = 0)).astype(int)\n",
    "\n",
    "        pi = pi/np.sum(pi, axis = 0)\n",
    "        \n",
    "        k += 1\n",
    "        \n",
    "        \n",
    "    pi = np.concatenate(pi, axis = 1)\n",
    "    \n",
    "    MLS = np.argmax(B, axis = 1)\n",
    "    \n",
    "    pi_MLS = np.zeros([MLS.size, pi.shape[1]])\n",
    "    i = 0\n",
    "\n",
    "    for x in MLS:\n",
    "        pi_MLS[i] = pi[x,:]\n",
    "        i+=1\n",
    "\n",
    "    print(k)\n",
    "    \n",
    "    return np.argmax(pi_MLS, axis = 1)"
   ]
  },
  {
   "cell_type": "code",
   "execution_count": 6,
   "id": "9d07e4f2-168b-441b-981c-ab39d7d22c59",
   "metadata": {},
   "outputs": [],
   "source": [
    "def AV(B, P, c, gamma):\n",
    "    \n",
    "    c = c.T.reshape([c.shape[1], c.shape[0], 1])\n",
    "    \n",
    "    pi = np.ones(c.shape)/c.shape[0]\n",
    "    pi_prev = np.ones(c.shape)\n",
    "    \n",
    "    k = 0\n",
    "    \n",
    "    while not np.allclose(pi,pi_prev):\n",
    "        \n",
    "        pi_prev = pi\n",
    "        \n",
    "        P_pi = np.sum(P*pi, axis = 0)\n",
    "        c_pi = np.sum(c*pi, axis = 0)\n",
    "        \n",
    "        J = np.matmul(np.linalg.inv(np.eye(P_pi.shape[0]) - gamma*P_pi), c_pi)\n",
    "        \n",
    "        Q = c + gamma * np.matmul(P,J)\n",
    "        \n",
    "        pi = np.isclose(Q, np.min(Q,axis = 0)).astype(int)\n",
    "\n",
    "        pi = pi/np.sum(pi, axis = 0)\n",
    "        \n",
    "        k += 1\n",
    "        \n",
    "        \n",
    "    pi = np.concatenate(pi, axis = 1)\n",
    "    \n",
    "    pi = np.argmax(B@pi, axis = 1)\n",
    "\n",
    "    print(k)\n",
    "    \n",
    "    return pi"
   ]
  },
  {
   "cell_type": "code",
   "execution_count": 7,
   "id": "2b6524a5-b74d-4994-bf1b-c43ba6347338",
   "metadata": {},
   "outputs": [
    {
     "name": "stdout",
     "output_type": "stream",
     "text": [
      "2\n",
      "12\n"
     ]
    },
    {
     "data": {
      "text/plain": [
       "[<matplotlib.lines.Line2D at 0x7f90040b3ca0>]"
      ]
     },
     "execution_count": 7,
     "metadata": {},
     "output_type": "execute_result"
    },
    {
     "data": {
      "image/png": "[encoded data removed]",
      "text/plain": [
       "<Figure size 432x288 with 1 Axes>"
      ]
     },
     "metadata": {
      "needs_background": "light"
     },
     "output_type": "display_data"
    }
   ],
   "source": [
    "import matplotlib.pyplot as plt\n",
    "\n",
    "pi_QMDP = Q_MDP(B,P,C,0.75)\n",
    "pi_FIB = FIB(B, P, O, C, 0.75)\n",
    "\n",
    "plt.plot(p,pi_QMDP)\n",
    "\n",
    "plt.plot(p,pi_FIB, '--')"
   ]
  }
 ],
 "metadata": {
  "kernelspec": {
   "display_name": "Python 3",
   "language": "python",
   "name": "python3"
  },
  "language_info": {
   "codemirror_mode": {
    "name": "ipython",
    "version": 3
   },
   "file_extension": ".py",
   "mimetype": "text/x-python",
   "name": "python",
   "nbconvert_exporter": "python",
   "pygments_lexer": "ipython3",
   "version": "3.9.7"
  }
 },
 "nbformat": 4,
 "nbformat_minor": 5
}
