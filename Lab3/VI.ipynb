{
 "cells": [
  {
   "cell_type": "code",
   "execution_count": 1,
   "id": "efe66d18-9145-49a1-8417-f156e13ffe0c",
   "metadata": {},
   "outputs": [],
   "source": [
    "import numpy as np\n",
    "\n",
    "X = ['Tiger Left', 'Tiger Right']\n",
    "\n",
    "A = ['Open Left', 'Open Right', 'Listen']\n",
    "\n",
    "Z = ['Tiger Left', 'Tiger Right']\n",
    "\n",
    "P_OL = np.ones([len(X), len(X)])/len(X) # uniform probability of tiger being behind any door\n",
    "P_OR = P_OL\n",
    "P_L = np.eye(len(X)) # when listening position of tiger doesn't change\n",
    "\n",
    "O_OL = np.ones([len(X), len(X)])/len(X) # when door is opened world resets, back to tiger behind any door with uniform probability\n",
    "O_OR = O_OL\n",
    "O_L = np.array([[0.85, 0.15], [0.15, 0.85]]) # We can hear correct position of tiger with 0.85 probability\n",
    "\n",
    "P = np.array([P_OL, P_OR, P_L])\n",
    "O = np.array([O_OL, O_OR, O_L])\n",
    "\n",
    "C = np.array([[1, 0, 0.1], [0, 1, 0.1]]) # Maximum cost if we pick wrong door, small cost for listening"
   ]
  },
  {
   "cell_type": "code",
   "execution_count": 2,
   "id": "2e509cbb-5217-4b29-ac12-f985eec7e0f1",
   "metadata": {},
   "outputs": [],
   "source": [
    "def belief_update(b, P, O):\n",
    "    b = np.matmul(b,P)*O.T\n",
    "    \n",
    "    return b/np.linalg.norm(b,1) "
   ]
  },
  {
   "cell_type": "code",
   "execution_count": 3,
   "id": "965eb5c3-77f0-4c9b-a468-10c688022914",
   "metadata": {},
   "outputs": [
    {
     "name": "stdout",
     "output_type": "stream",
     "text": [
      "[0.15 0.85]\n",
      "[0.03020134 0.96979866]\n",
      "[0.15 0.85]\n"
     ]
    }
   ],
   "source": [
    "b0 = np.array([0.5, 0.5]) # uniform initial belief\n",
    "\n",
    "b1 = belief_update(b0, P[2], O[2][:,1]) # belief after listening to tiger on the right\n",
    "\n",
    "print(b1)\n",
    "\n",
    "b2 = belief_update(b1, P[2], O[2][:,1]) # belief after listening to tiger on the right again\n",
    "\n",
    "print(b2)\n",
    "\n",
    "b3 = belief_update(b2, P[2], O[2][:,0]) # belief after listening to tiger on the left\n",
    "\n",
    "print(b3)"
   ]
  },
  {
   "cell_type": "code",
   "execution_count": 4,
   "id": "2a0fd95f-fe0f-4760-bb58-ef5adb59599a",
   "metadata": {},
   "outputs": [
    {
     "data": {
      "text/plain": [
       "[<matplotlib.lines.Line2D at 0x7fbe9c07a6a0>]"
      ]
     },
     "execution_count": 4,
     "metadata": {},
     "output_type": "execute_result"
    },
    {
     "data": {
      "image/png": "[encoded data removed]",
      "text/plain": [
       "<Figure size 432x288 with 1 Axes>"
      ]
     },
     "metadata": {
      "needs_background": "light"
     },
     "output_type": "display_data"
    }
   ],
   "source": [
    "import matplotlib.pyplot as plt\n",
    "\n",
    "grey = '#C0C0C0'\n",
    "\n",
    "p = np.linspace(0,1,101)\n",
    "p = np.reshape(p, [p.size, 1])\n",
    "\n",
    "B = np.hstack((p, 1-p)) # discrete belief space\n",
    "\n",
    "J = np.matmul(B, C)\n",
    "\n",
    "plt.plot(p, J, grey)\n",
    "\n",
    "J = np.min(J, axis = 1)\n",
    "\n",
    "plt.plot(p, J, 'k')"
   ]
  },
  {
   "cell_type": "code",
   "execution_count": 5,
   "id": "c7a9bfdb-2d75-428e-ac69-46ecf79766d4",
   "metadata": {},
   "outputs": [],
   "source": [
    "gamma = 0.75"
   ]
  },
  {
   "cell_type": "code",
   "execution_count": 6,
   "id": "05fd2265-a552-4342-91d6-6f4953e17cad",
   "metadata": {},
   "outputs": [],
   "source": [
    "alpha_list = C"
   ]
  },
  {
   "cell_type": "code",
   "execution_count": 7,
   "id": "219c1b22-74be-4998-9d31-4779e7666675",
   "metadata": {},
   "outputs": [],
   "source": [
    "def value_iteration(alpha_list, P, O, C):\n",
    "    \n",
    "    # creating Gamma_a,z\n",
    "    \n",
    "    alpha_list = alpha_list.T.reshape([alpha_list.shape[1], alpha_list.shape[0], 1])\n",
    "    alpha_list_new = np.zeros([len(A), len(Z), *alpha_list.shape])\n",
    "    \n",
    "    for a in range(P.shape[0]):\n",
    "        for z in range(O.shape[2]):\n",
    "            aux = 1/len(Z)*C[:,a].reshape([C.shape[0],1]) + gamma*(P[a]*O[a][:,z].T)@alpha_list\n",
    "            alpha_list_new[a][z][:] = aux\n",
    "                  \n",
    "    alpha_list = np.array(alpha_list_new)\n",
    "    \n",
    "    # creating Gamma_a\n",
    "    \n",
    "    alpha_list_a = np.zeros([alpha_list.shape[0], alpha_list.shape[2]**alpha_list.shape[1], alpha_list.shape[3], 1])\n",
    "\n",
    "    for a in range(len(A)):\n",
    "        i = 0\n",
    "        for vector in alpha_list[a][0]:\n",
    "            aux = vector + alpha_list[a][1]\n",
    "            for vector in aux:\n",
    "                alpha_list_a[a][i] = vector\n",
    "                i+=1\n",
    "                \n",
    "    alpha_list_a = alpha_list_a.reshape([alpha_list_a.shape[0], alpha_list_a.shape[1], alpha_list_a.shape[2]])\n",
    "    \n",
    "    # creating Gamma\n",
    "    \n",
    "    aux = alpha_list_a[0]\n",
    "    \n",
    "    for a in range(1, P.shape[0]):\n",
    "        \n",
    "        aux = np.array([x for x in set(tuple(x) for x in aux) | set(tuple(x) for x in alpha_list_a[a])])\n",
    "        \n",
    "    alpha_list = aux.T\n",
    "    \n",
    "    return alpha_list"
   ]
  },
  {
   "cell_type": "code",
   "execution_count": 8,
   "id": "4e43c172-5e26-4868-b018-4fe2fa814f7a",
   "metadata": {},
   "outputs": [],
   "source": [
    "alpha_list = value_iteration(alpha_list, P, O, C)"
   ]
  },
  {
   "cell_type": "code",
   "execution_count": 9,
   "id": "e41a39df-cd9c-446c-aef9-431473ee7a68",
   "metadata": {},
   "outputs": [
    {
     "data": {
      "text/plain": [
       "[<matplotlib.lines.Line2D at 0x7fbe8ebbf5b0>]"
      ]
     },
     "execution_count": 9,
     "metadata": {},
     "output_type": "execute_result"
    },
    {
     "data": {
      "image/png": "[encoded data removed]",
      "text/plain": [
       "<Figure size 432x288 with 1 Axes>"
      ]
     },
     "metadata": {
      "needs_background": "light"
     },
     "output_type": "display_data"
    }
   ],
   "source": [
    "J = np.matmul(B, alpha_list)\n",
    "\n",
    "plt.plot(p, J, grey)\n",
    "\n",
    "J = np.min(J, axis = 1)\n",
    "\n",
    "plt.xlim([0, 1])\n",
    "plt.ylim([0,1.4])\n",
    "\n",
    "plt.plot(p, J, 'k')"
   ]
  },
  {
   "cell_type": "code",
   "execution_count": 10,
   "id": "a07ada1e-fd58-4b3f-91c6-fd207f555d81",
   "metadata": {},
   "outputs": [],
   "source": [
    "def prune(alpha_list, B):\n",
    "    index = []\n",
    "\n",
    "    for i in range(alpha_list.shape[1]):\n",
    "        a = np.matmul(B, alpha_list[:,i].reshape([alpha_list.shape[0],1]))\n",
    "        b = np.matmul(B, np.delete(alpha_list, i, axis = 1))\n",
    "\n",
    "        if np.any(np.all(np.less(a, b), axis = 1)):\n",
    "            index.append(i)\n",
    "            \n",
    "    alpha_list = np.take(alpha_list, index, axis = 1)\n",
    "    \n",
    "    return alpha_list"
   ]
  },
  {
   "cell_type": "code",
   "execution_count": 11,
   "id": "2e5da56b-68e6-49f9-b4a9-103c57eb57da",
   "metadata": {},
   "outputs": [],
   "source": [
    "alpha_list = prune(alpha_list, B)"
   ]
  },
  {
   "cell_type": "code",
   "execution_count": 12,
   "id": "c482a1eb-55c1-4a10-9707-0d96f19d8891",
   "metadata": {},
   "outputs": [
    {
     "data": {
      "text/plain": [
       "[<matplotlib.lines.Line2D at 0x7fbe8eb35d60>]"
      ]
     },
     "execution_count": 12,
     "metadata": {},
     "output_type": "execute_result"
    },
    {
     "data": {
      "image/png": "[encoded data removed]",
      "text/plain": [
       "<Figure size 432x288 with 1 Axes>"
      ]
     },
     "metadata": {
      "needs_background": "light"
     },
     "output_type": "display_data"
    }
   ],
   "source": [
    "J = np.matmul(B, alpha_list)\n",
    "\n",
    "plt.plot(p, J, grey)\n",
    "\n",
    "J = np.min(J, axis = 1)\n",
    "\n",
    "plt.xlim([0, 1])\n",
    "plt.ylim([0,1.4])\n",
    "\n",
    "plt.plot(p, J, 'k')"
   ]
  },
  {
   "cell_type": "code",
   "execution_count": 13,
   "id": "e61ca00b-7232-41b4-8442-bc8b9b65d584",
   "metadata": {},
   "outputs": [],
   "source": [
    "for i in range(21):\n",
    "    alpha_list = value_iteration(alpha_list, P, O, C)\n",
    "    alpha_list = prune(alpha_list, B)"
   ]
  },
  {
   "cell_type": "code",
   "execution_count": 14,
   "id": "4e706f83-3efb-4b3a-be06-53232becc3c2",
   "metadata": {},
   "outputs": [
    {
     "data": {
      "text/plain": [
       "[<matplotlib.lines.Line2D at 0x7fbe8de3aac0>]"
      ]
     },
     "execution_count": 14,
     "metadata": {},
     "output_type": "execute_result"
    },
    {
     "data": {
      "image/png": "[encoded data removed]",
      "text/plain": [
       "<Figure size 432x288 with 1 Axes>"
      ]
     },
     "metadata": {
      "needs_background": "light"
     },
     "output_type": "display_data"
    }
   ],
   "source": [
    "J = np.matmul(B, alpha_list)\n",
    "\n",
    "plt.plot(p, J, grey)\n",
    "\n",
    "J = np.min(J, axis = 1)\n",
    "\n",
    "plt.xlim([0, 1])\n",
    "plt.ylim([0,0.5])\n",
    "\n",
    "plt.plot(p, J, 'k')"
   ]
  },
  {
   "cell_type": "code",
   "execution_count": 15,
   "id": "be325abf-5bc0-42e8-80e9-84f95a728ca9",
   "metadata": {},
   "outputs": [
    {
     "data": {
      "text/plain": [
       "(2, 27)"
      ]
     },
     "execution_count": 15,
     "metadata": {},
     "output_type": "execute_result"
    }
   ],
   "source": [
    "alpha_list.shape"
   ]
  }
 ],
 "metadata": {
  "kernelspec": {
   "display_name": "Python 3",
   "language": "python",
   "name": "python3"
  },
  "language_info": {
   "codemirror_mode": {
    "name": "ipython",
    "version": 3
   },
   "file_extension": ".py",
   "mimetype": "text/x-python",
   "name": "python",
   "nbconvert_exporter": "python",
   "pygments_lexer": "ipython3",
   "version": "3.9.7"
  }
 },
 "nbformat": 4,
 "nbformat_minor": 5
}
