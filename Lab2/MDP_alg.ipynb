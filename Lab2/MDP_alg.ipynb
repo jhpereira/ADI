{
 "cells": [
  {
   "cell_type": "code",
   "execution_count": 1,
   "id": "08406b4b-1d0a-454e-9b35-938496d6810c",
   "metadata": {},
   "outputs": [],
   "source": [
    "import numpy as np"
   ]
  },
  {
   "cell_type": "code",
   "execution_count": 2,
   "id": "4adca81c-6684-4513-afab-5d0ecf22b287",
   "metadata": {},
   "outputs": [],
   "source": [
    "def Value_Iteration_Prediction(P_pi, c_pi, gamma, tol = 1e-8):\n",
    "    \n",
    "    k = 0\n",
    "    J_prev = np.ones([P_pi.shape[0], 1])\n",
    "    J = np.zeros([P_pi.shape[0], 1])\n",
    "    \n",
    "    while np.linalg.norm(J_prev-J) >  tol:\n",
    "        J_prev = J\n",
    "        J = c_pi + gamma*np.matmul(P_pi, J)\n",
    "        k += 1\n",
    "\n",
    "    print(k)\n",
    "    return J"
   ]
  },
  {
   "cell_type": "code",
   "execution_count": 3,
   "id": "695569ae-5ae7-4207-ad50-d4b3c2c8713e",
   "metadata": {},
   "outputs": [],
   "source": [
    "def Value_Iteration_Control(c, P, gamma, tol = 1e-8):\n",
    "    \n",
    "    k = 0\n",
    "    J_prev = np.ones([P_pi.shape[0], 1])\n",
    "    J = np.zeros([P_pi.shape[0], 1])\n",
    "    \n",
    "    while np.linalg.norm(J_prev-J, np.inf) >  tol:\n",
    "        J_prev = J\n",
    "        J = c + gamma*np.matmul(P, J)\n",
    "        \n",
    "        pi = np.isclose(J, np.min(J,axis = 0)).astype(int)\n",
    "\n",
    "        pi = pi/np.sum(pi, axis = 0)\n",
    "        \n",
    "        J = np.min(J, axis=0)\n",
    "        \n",
    "        k += 1\n",
    "        \n",
    "    pi = np.concatenate(pi, axis = 1)\n",
    "    \n",
    "    print(k)\n",
    "    return (pi,J)\n",
    "    return J"
   ]
  },
  {
   "cell_type": "code",
   "execution_count": 4,
   "id": "ffa5da4a-acc1-40f6-8696-9d1449f716f5",
   "metadata": {},
   "outputs": [],
   "source": [
    "def Policy_Iteration(P, c, gamma):\n",
    "    \n",
    "    pi = np.ones(c.shape)/c.shape[0]\n",
    "    pi_prev = np.ones(c.shape)\n",
    "    \n",
    "    k = 0\n",
    "    \n",
    "    while not np.allclose(pi,pi_prev):\n",
    "        \n",
    "        pi_prev = pi\n",
    "        \n",
    "        P_pi = np.sum(P*pi, axis = 0)\n",
    "        c_pi = np.sum(c*pi, axis = 0)\n",
    "        \n",
    "        J = np.matmul(np.linalg.inv(np.eye(P_pi.shape[0]) - gamma*P_pi), c_pi)\n",
    "        \n",
    "        Q = c + gamma * np.matmul(P,J)\n",
    "        \n",
    "        pi = np.isclose(Q, np.min(Q,axis = 0)).astype(int)\n",
    "\n",
    "        pi = pi/np.sum(pi, axis = 0)\n",
    "        \n",
    "        k += 1\n",
    "        \n",
    "    pi = np.concatenate(pi, axis = 1)\n",
    "\n",
    "    print(k)\n",
    "    \n",
    "    return pi"
   ]
  }
 ],
 "metadata": {
  "kernelspec": {
   "display_name": "Python 3",
   "language": "python",
   "name": "python3"
  },
  "language_info": {
   "codemirror_mode": {
    "name": "ipython",
    "version": 3
   },
   "file_extension": ".py",
   "mimetype": "text/x-python",
   "name": "python",
   "nbconvert_exporter": "python",
   "pygments_lexer": "ipython3",
   "version": "3.9.7"
  }
 },
 "nbformat": 4,
 "nbformat_minor": 5
}
