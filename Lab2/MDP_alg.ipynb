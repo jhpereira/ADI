{
 "cells": [
  {
   "cell_type": "code",
   "execution_count": 1,
   "id": "08406b4b-1d0a-454e-9b35-938496d6810c",
   "metadata": {},
   "outputs": [],
   "source": [
    "import numpy as np"
   ]
  },
  {
   "cell_type": "code",
   "execution_count": 2,
   "id": "4adca81c-6684-4513-afab-5d0ecf22b287",
   "metadata": {},
   "outputs": [],
   "source": [
    "def Value_Iteration_Prediction(P_pi, c_pi, gamma, tol = 1e-8):\n",
    "    \n",
    "    k = 0\n",
    "    J_prev = np.ones([P_pi.shape[0], 1])\n",
    "    J = np.zeros([P_pi.shape[0], 1])\n",
    "    \n",
    "    while np.linalg.norm(J_prev-J) >  tol:\n",
    "        J_prev = J\n",
    "        J = c_pi + gamma*np.matmul(P_pi, J)\n",
    "        k += 1\n",
    "\n",
    "    print(k)\n",
    "    return J"
   ]
  },
  {
   "cell_type": "code",
   "execution_count": 3,
   "id": "695569ae-5ae7-4207-ad50-d4b3c2c8713e",
   "metadata": {},
   "outputs": [],
   "source": [
    "def Value_Iteration_Control(P, c, gamma, tol = 1e-8):\n",
    "    \n",
    "    k = 0\n",
    "    J_prev = np.ones([P.shape[1], 1])\n",
    "    J = np.zeros([P.shape[1], 1])\n",
    "    \n",
    "    while np.linalg.norm(J_prev-J, np.inf) >  tol:\n",
    "        J_prev = J\n",
    "        J = c + gamma*np.matmul(P, J)\n",
    "        \n",
    "        pi = np.isclose(J, np.min(J,axis = 0)).astype(int)\n",
    "\n",
    "        pi = pi/np.sum(pi, axis = 0)\n",
    "        \n",
    "        J = np.min(J, axis=0)\n",
    "        \n",
    "        k += 1\n",
    "        \n",
    "    pi = np.concatenate(pi, axis = 1)\n",
    "    \n",
    "    print(k)\n",
    "    return (pi,J)\n",
    "    return J"
   ]
  },
  {
   "cell_type": "code",
   "execution_count": 4,
   "id": "ffa5da4a-acc1-40f6-8696-9d1449f716f5",
   "metadata": {},
   "outputs": [],
   "source": [
    "def Policy_Iteration(P, c, gamma):\n",
    "    \n",
    "    pi = np.ones(c.shape)/c.shape[0]\n",
    "    pi_prev = np.ones(c.shape)\n",
    "    \n",
    "    k = 0\n",
    "    \n",
    "    while not np.allclose(pi,pi_prev):\n",
    "        \n",
    "        pi_prev = pi\n",
    "        \n",
    "        P_pi = np.sum(P*pi, axis = 0)\n",
    "        c_pi = np.sum(c*pi, axis = 0)\n",
    "        \n",
    "        J = np.matmul(np.linalg.inv(np.eye(P_pi.shape[0]) - gamma*P_pi), c_pi)\n",
    "        \n",
    "        Q = c + gamma * np.matmul(P,J)\n",
    "        \n",
    "        pi = np.isclose(Q, np.min(Q,axis = 0)).astype(int)\n",
    "\n",
    "        pi = pi/np.sum(pi, axis = 0)\n",
    "        \n",
    "        k += 1\n",
    "        \n",
    "        \n",
    "    pi = np.concatenate(pi, axis = 1)\n",
    "\n",
    "    print(k)\n",
    "    \n",
    "    return pi"
   ]
  },
  {
   "cell_type": "code",
   "execution_count": 5,
   "id": "a2c8e5ee-a7b2-40cf-8d66-8f3d6f17afa3",
   "metadata": {},
   "outputs": [],
   "source": [
    "n = [9,9]\n",
    "\n",
    "Pup = np.zeros(n)\n",
    "Pdown = np.zeros(n)\n",
    "Pleft = np.zeros(n)\n",
    "Pright = np.zeros(n)\n",
    "\n",
    "Pup[2,-2] = Pdown[2,-2] = Pleft[2,-2] = Pright[2,-2] = 1\n",
    "Pup[3,-1] = Pdown[3,-1] = Pleft[3,-1] = Pright[3,-1] = 1\n",
    "Pup[-1,-1] = Pdown[-1,-1] = Pleft[-1,-1] = Pright[-1,-1] = 1\n",
    "Pup[-2,-2] = Pdown[-2,-2] = Pleft[-2,-2] = Pright[-2,-2] = 1\n",
    "\n",
    "Pup[0,0] = Pup[1,1] = Pup[4,0] = Pup[5,1] = Pup[6,2] = 1 \n",
    "Pdown[0,4] = Pdown[1,5] = Pdown[4,4] = Pdown[5,5] = Pdown[6,6] = 1\n",
    "Pleft [0,6] = Pleft[1,6] = Pleft[4,4] = Pleft[5,5] = Pleft[6,4] = 1\n",
    "Pright[0,2] = Pright[1,3] = Pright[4,6] = Pright[5,6] = Pright[6,0] = 1\n",
    "\n",
    "P = np.array([Pup, Pdown, Pleft, Pright])\n",
    "\n",
    "c = np.array([0.1, 0.1, 0, 1, 0.1, 0.1, 0.1, 0, 0])\n",
    "c = np.reshape(c, [9,1])\n",
    "\n",
    "cost = np.array([c,c,c,c])"
   ]
  },
  {
   "cell_type": "code",
   "execution_count": 6,
   "id": "2b16be2d-36cd-4eab-8f4a-ebd41ce95ae7",
   "metadata": {},
   "outputs": [
    {
     "name": "stdout",
     "output_type": "stream",
     "text": [
      "3\n"
     ]
    },
    {
     "data": {
      "text/plain": [
       "(array([[0.  , 0.  , 0.  , 1.  ],\n",
       "        [0.  , 0.  , 1.  , 0.  ],\n",
       "        [0.25, 0.25, 0.25, 0.25],\n",
       "        [0.25, 0.25, 0.25, 0.25],\n",
       "        [0.5 , 0.  , 0.  , 0.5 ],\n",
       "        [0.  , 0.  , 0.  , 1.  ],\n",
       "        [1.  , 0.  , 0.  , 0.  ],\n",
       "        [0.25, 0.25, 0.25, 0.25],\n",
       "        [0.25, 0.25, 0.25, 0.25]]),\n",
       " array([[0.1 ],\n",
       "        [0.19],\n",
       "        [0.  ],\n",
       "        [1.  ],\n",
       "        [0.19],\n",
       "        [0.19],\n",
       "        [0.1 ],\n",
       "        [0.  ],\n",
       "        [0.  ]]))"
      ]
     },
     "execution_count": 6,
     "metadata": {},
     "output_type": "execute_result"
    }
   ],
   "source": [
    "Value_Iteration_Control(P, cost, 0.9)"
   ]
  },
  {
   "cell_type": "code",
   "execution_count": 7,
   "id": "f1539c97-84cf-43f3-91ae-cecd813c510b",
   "metadata": {},
   "outputs": [
    {
     "name": "stdout",
     "output_type": "stream",
     "text": [
      "2\n"
     ]
    },
    {
     "data": {
      "text/plain": [
       "array([[0.  , 0.  , 0.  , 1.  ],\n",
       "       [0.  , 0.  , 1.  , 0.  ],\n",
       "       [0.25, 0.25, 0.25, 0.25],\n",
       "       [0.25, 0.25, 0.25, 0.25],\n",
       "       [0.5 , 0.  , 0.  , 0.5 ],\n",
       "       [0.  , 0.  , 0.  , 1.  ],\n",
       "       [1.  , 0.  , 0.  , 0.  ],\n",
       "       [0.25, 0.25, 0.25, 0.25],\n",
       "       [0.25, 0.25, 0.25, 0.25]])"
      ]
     },
     "execution_count": 7,
     "metadata": {},
     "output_type": "execute_result"
    }
   ],
   "source": [
    "Policy_Iteration(P, cost, 0.9)"
   ]
  },
  {
   "cell_type": "code",
   "execution_count": 11,
   "id": "9638df20-e643-4065-b3f3-a661be5fcf28",
   "metadata": {},
   "outputs": [
    {
     "name": "stdout",
     "output_type": "stream",
     "text": [
      "162\n"
     ]
    },
    {
     "data": {
      "text/plain": [
       "array([[0.99999996],\n",
       "       [0.99999996],\n",
       "       [0.        ],\n",
       "       [1.        ],\n",
       "       [0.99999996],\n",
       "       [0.99999996],\n",
       "       [0.99999996],\n",
       "       [0.        ],\n",
       "       [0.        ]])"
      ]
     },
     "execution_count": 11,
     "metadata": {},
     "output_type": "execute_result"
    }
   ],
   "source": [
    "Value_Iteration_Prediction(P[2], cost[2], 0.9)"
   ]
  },
  {
   "cell_type": "code",
   "execution_count": 12,
   "id": "7b7ab156-7b30-4424-8c6a-a40c63871c88",
   "metadata": {},
   "outputs": [
    {
     "data": {
      "text/plain": [
       "1.0"
      ]
     },
     "execution_count": 12,
     "metadata": {},
     "output_type": "execute_result"
    }
   ],
   "source": [
    "0.1+0.1*0.9/0.1"
   ]
  },
  {
   "cell_type": "code",
   "execution_count": null,
   "id": "54ae0f2a-62d5-4dca-a8af-cec03322b272",
   "metadata": {},
   "outputs": [],
   "source": []
  }
 ],
 "metadata": {
  "kernelspec": {
   "display_name": "Python 3",
   "language": "python",
   "name": "python3"
  },
  "language_info": {
   "codemirror_mode": {
    "name": "ipython",
    "version": 3
   },
   "file_extension": ".py",
   "mimetype": "text/x-python",
   "name": "python",
   "nbconvert_exporter": "python",
   "pygments_lexer": "ipython3",
   "version": "3.9.7"
  }
 },
 "nbformat": 4,
 "nbformat_minor": 5
}
